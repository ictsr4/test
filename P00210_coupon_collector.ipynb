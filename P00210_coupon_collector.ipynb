{
 "cells": [
  {
   "cell_type": "markdown",
   "id": "7c3f6d87",
   "metadata": {},
   "source": [
    "カードのキャラクタが5種類あり、同じ確率で出るものとします。カードを１枚ずつ確認すると へ\n"
   ]
  },
  {
   "cell_type": "code",
   "execution_count": 1,
   "id": "f625d7ad",
   "metadata": {},
   "outputs": [],
   "source": [
    "import  pprint \n",
    "from scipy.special import comb\n",
    "from scipy.special import perm\n",
    "import math\n",
    "import itertools"
   ]
  },
  {
   "cell_type": "code",
   "execution_count": null,
   "id": "eef65bdb",
   "metadata": {},
   "outputs": [],
   "source": [
    "## サイコロを6回振った時の全ての目の出方\n"
   ]
  },
  {
   "cell_type": "markdown",
   "id": "13fc3d7f",
   "metadata": {},
   "source": [
    "${}_6\\mathrm{P}_6$"
   ]
  },
  {
   "cell_type": "code",
   "execution_count": 2,
   "id": "6aef5a80",
   "metadata": {},
   "outputs": [
    {
     "name": "stdout",
     "output_type": "stream",
     "text": [
      "重複順列のリストの要素の数： 46656\n",
      "目の種類 =rの試行回数= n乗： 46656\n"
     ]
    }
   ],
   "source": [
    "import itertools\n",
    "n = 6\n",
    "r = 6\n",
    "perm_list = list(itertools.product(range(r), repeat = n))\n",
    "print('重複順列のリストの要素の数：',len(perm_list))\n",
    "print('目の種類 =rの試行回数= n乗：', r**n)\n"
   ]
  },
  {
   "cell_type": "code",
   "execution_count": null,
   "id": "13f2a48a",
   "metadata": {},
   "outputs": [],
   "source": [
    "## サイコロを6回振った時、全ての目が揃う確率"
   ]
  },
  {
   "cell_type": "code",
   "execution_count": 3,
   "id": "95df7914",
   "metadata": {},
   "outputs": [
    {
     "name": "stdout",
     "output_type": "stream",
     "text": [
      "重複順列のうち目が全て異なる要素の数　： 720\n",
      "異なる目が出たとしたときの順列の要素数： 720.0\n",
      "6回サイコロを振ったとき全ての目が揃う確率： 0.015432098765432098\n"
     ]
    }
   ],
   "source": [
    "from scipy.special import perm\n",
    "comp_list = []\n",
    "for elm in perm_list:\n",
    "    if len(set(elm)) == r:\n",
    "        comp_list.append(elm)\n",
    "print('重複順列のうち目が全て異なる要素の数　：' ,len(comp_list))\n",
    "print('異なる目が出たとしたときの順列の要素数：' , perm(n, r))\n",
    "print('6回サイコロを振ったとき全ての目が揃う確率：', len(comp_list) / len(perm_list))"
   ]
  },
  {
   "cell_type": "code",
   "execution_count": null,
   "id": "6feda77d",
   "metadata": {},
   "outputs": [],
   "source": [
    "## n回の試行でr種類が揃う確率を求める関数"
   ]
  },
  {
   "cell_type": "code",
   "execution_count": 5,
   "id": "37f22829",
   "metadata": {},
   "outputs": [
    {
     "data": {
      "text/plain": [
       "0.015432098765432098"
      ]
     },
     "execution_count": 5,
     "metadata": {},
     "output_type": "execute_result"
    }
   ],
   "source": [
    "def coupon_acc_comp(n, r):\n",
    "    perm_list = list(itertools.product(range(r), repeat = n))\n",
    "    cnt = 0\n",
    "    for elm in perm_list:\n",
    "        if len(set(elm)) == r:\n",
    "            cnt += 1\n",
    "    return cnt / len(perm_list)  \n",
    "\n",
    "coupon_acc_comp(6, 6)"
   ]
  },
  {
   "cell_type": "code",
   "execution_count": null,
   "id": "258c3a34",
   "metadata": {},
   "outputs": [],
   "source": [
    "## n回目の試行でサイコロの面が揃う確率を求める関数"
   ]
  },
  {
   "cell_type": "code",
   "execution_count": 10,
   "id": "72910e5e",
   "metadata": {},
   "outputs": [
    {
     "name": "stdout",
     "output_type": "stream",
     "text": [
      "6回目ですべての面が揃う確率： 0.015432098765432098\n",
      "7回目までにすべての面が揃う確率： 0.05401234567901234\n",
      "8回目までにすべての面が揃う確率： 0.11402606310013717\n",
      "7回目にはじめてすべての面が揃う確率： 0.038580246913580245\n",
      "8回目にはじめてすべての面が揃う確率： 0.06001371742112483\n"
     ]
    }
   ],
   "source": [
    "case_acc_6_6 = coupon_acc_comp(6, 6)\n",
    "case_acc_7_6 = coupon_acc_comp(7, 6)\n",
    "case_acc_8_6 = coupon_acc_comp(8, 6)\n",
    "print('6回目ですべての面が揃う確率：', case_acc_6_6)\n",
    "print('7回目までにすべての面が揃う確率：', case_acc_7_6)\n",
    "print('8回目までにすべての面が揃う確率：', case_acc_8_6)\n",
    "print('7回目にはじめてすべての面が揃う確率：', case_acc_7_6-case_acc_6_6)\n",
    "print('8回目にはじめてすべての面が揃う確率：', case_acc_8_6-case_acc_7_6)\n"
   ]
  },
  {
   "cell_type": "code",
   "execution_count": null,
   "id": "cb635b57",
   "metadata": {},
   "outputs": [],
   "source": [
    "## n回目にはじめてr種類が揃う確率を求める関数"
   ]
  },
  {
   "cell_type": "code",
   "execution_count": 6,
   "id": "30bf6071",
   "metadata": {},
   "outputs": [
    {
     "name": "stdout",
     "output_type": "stream",
     "text": [
      "6回目にはじめてすべての面が揃う確率： 0.015432098765432098\n",
      "7回目にはじめてすべての面が揃う確率： 0.038580246913580245\n",
      "8回目にはじめてすべての面が揃う確率： 0.06001371742112483\n"
     ]
    }
   ],
   "source": [
    "def coupon_disp_comp(n, r):\n",
    "    perm_list = list(itertools.product(range(r), repeat=n))\n",
    "    cnt = 0\n",
    "    for elm in perm_list:\n",
    "        if len(set(elm)) == r and len(set(elm[:-1])) != r:\n",
    "            cnt += 1\n",
    "    return cnt / len(perm_list)  \n",
    "\n",
    "print('6回目にはじめてすべての面が揃う確率：', coupon_disp_comp(6, 6))\n",
    "print('7回目にはじめてすべての面が揃う確率：', coupon_disp_comp(7, 6))\n",
    "print('8回目にはじめてすべての面が揃う確率：', coupon_disp_comp(8, 6))"
   ]
  },
  {
   "cell_type": "code",
   "execution_count": null,
   "id": "12d8741f",
   "metadata": {},
   "outputs": [],
   "source": [
    "## n回目までにはじめてr種類が揃う確率の配列を求める関数"
   ]
  },
  {
   "cell_type": "code",
   "execution_count": 4,
   "id": "f466e5a6",
   "metadata": {},
   "outputs": [
    {
     "name": "stdout",
     "output_type": "stream",
     "text": [
      " 6回目： 1.543%\n",
      " 7回目： 3.858%\n",
      " 8回目： 6.001%\n",
      " 9回目： 7.502%\n",
      "10回目： 8.277%\n",
      "以　降：72.819%\n"
     ]
    }
   ],
   "source": [
    "def disp_prob_array(n, r):\n",
    "    counter= [0 for _ in range(n+1)]\n",
    "    array = [()]\n",
    "    for cnt in range(1,r ):\n",
    "        temp = array\n",
    "        array = []\n",
    "        for elm in temp:\n",
    "            for item in range(r):\n",
    "                array.append(elm + (item,))\n",
    "    for cnt in range(r, n+1):\n",
    "        temp = array\n",
    "        array = []\n",
    "        for elm in temp:\n",
    "            for item in range(r):\n",
    "                new_elm=elm + (item,)\n",
    "                if len(set(new_elm)) == r:\n",
    "                    counter[cnt] += 1\n",
    "                else:\n",
    "                    array.append(new_elm)\n",
    "        counter[cnt] /= (r**cnt)\n",
    "    counter.append(len(array)/(r**cnt))\n",
    "    return counter\n",
    "\n",
    "disp_prob_10_6 = disp_prob_array(10, 6)\n",
    "for i, prob in enumerate(disp_prob_10_6[6:-1], 6):\n",
    "    print(f'{i:>2}回目：{prob:>7.3%}')\n",
    "print(f'以　降：{disp_prob_10_6[-1]:>7.3%}')"
   ]
  }
 ],
 "metadata": {
  "kernelspec": {
   "display_name": "Python 3 (ipykernel)",
   "language": "python",
   "name": "python3"
  },
  "language_info": {
   "codemirror_mode": {
    "name": "ipython",
    "version": 3
   },
   "file_extension": ".py",
   "mimetype": "text/x-python",
   "name": "python",
   "nbconvert_exporter": "python",
   "pygments_lexer": "ipython3",
   "version": "3.7.16"
  },
  "varInspector": {
   "cols": {
    "lenName": 16,
    "lenType": 16,
    "lenVar": 40
   },
   "kernels_config": {
    "python": {
     "delete_cmd_postfix": "",
     "delete_cmd_prefix": "del ",
     "library": "var_list.py",
     "varRefreshCmd": "print(var_dic_list())"
    },
    "r": {
     "delete_cmd_postfix": ") ",
     "delete_cmd_prefix": "rm(",
     "library": "var_list.r",
     "varRefreshCmd": "cat(var_dic_list()) "
    }
   },
   "types_to_exclude": [
    "module",
    "function",
    "builtin_function_or_method",
    "instance",
    "_Feature"
   ],
   "window_display": false
  }
 },
 "nbformat": 4,
 "nbformat_minor": 5
}
